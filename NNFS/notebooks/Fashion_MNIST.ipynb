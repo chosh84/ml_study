{
  "nbformat": 4,
  "nbformat_minor": 0,
  "metadata": {
    "colab": {
      "name": "Fashion MNIST",
      "provenance": [],
      "collapsed_sections": [],
      "authorship_tag": "ABX9TyOYxUo7JtoNglGw9abnk3d1",
      "include_colab_link": true
    },
    "kernelspec": {
      "name": "python3",
      "display_name": "Python 3"
    },
    "language_info": {
      "name": "python"
    }
  },
  "cells": [
    {
      "cell_type": "markdown",
      "metadata": {
        "id": "view-in-github",
        "colab_type": "text"
      },
      "source": [
        "<a href=\"https://colab.research.google.com/github/chosh84/ml_study/blob/main/NNFS/notebooks/Fashion_MNIST.ipynb\" target=\"_parent\"><img src=\"https://colab.research.google.com/assets/colab-badge.svg\" alt=\"Open In Colab\"/></a>"
      ]
    },
    {
      "cell_type": "code",
      "source": [
        "!pip install nnfs"
      ],
      "metadata": {
        "colab": {
          "base_uri": "https://localhost:8080/"
        },
        "id": "ZjB6Nhvi8hqM",
        "outputId": "4260757f-fd6d-4a2d-dfc9-161e4c49706d"
      },
      "execution_count": null,
      "outputs": [
        {
          "output_type": "stream",
          "name": "stdout",
          "text": [
            "Collecting nnfs\n",
            "  Downloading nnfs-0.5.1-py3-none-any.whl (9.1 kB)\n",
            "Requirement already satisfied: numpy in /usr/local/lib/python3.7/dist-packages (from nnfs) (1.21.5)\n",
            "Installing collected packages: nnfs\n",
            "Successfully installed nnfs-0.5.1\n"
          ]
        }
      ]
    },
    {
      "cell_type": "code",
      "execution_count": null,
      "metadata": {
        "colab": {
          "base_uri": "https://localhost:8080/"
        },
        "id": "Sh9i0d7QwE5S",
        "outputId": "bf11c222-5b73-41d8-d7f3-6b10a784da5a"
      },
      "outputs": [
        {
          "output_type": "stream",
          "name": "stdout",
          "text": [
            "Downloading https://nnfs.io/datasets/fashion_mnist_images.zip and saving as fashion_mnist_images.zip...\n",
            "Unzipping images...\n"
          ]
        }
      ],
      "source": [
        "URL = 'https://nnfs.io/datasets/fashion_mnist_images.zip'\n",
        "FILE = 'fashion_mnist_images.zip'\n",
        "FOLDER = 'fashion_mnist_images'\n",
        "\n",
        "import os\n",
        "import urllib\n",
        "import urllib.request\n",
        "if not os.path.isfile(FILE):\n",
        "  print(f'Downloading {URL} and saving as {FILE}...') \n",
        "  urllib.request.urlretrieve(URL, FILE)\n",
        "\n",
        "from zipfile import ZipFile\n",
        "print('Unzipping images...')\n",
        "with ZipFile(FILE) as zip_images:\n",
        "  zip_images.extractall(FOLDER)\n",
        "\n"
      ]
    },
    {
      "cell_type": "code",
      "source": [
        "import cv2\n",
        "# 이미지 데이터를 3color로 해서 array로 바꿈\n",
        "image_data = cv2.imread('fashion_mnist_images/train/7/0002.png',\n",
        "                          cv2.IMREAD_UNCHANGED)\n",
        "import numpy as np \n",
        "np.set_printoptions(linewidth=200)\n",
        "print(image_data)\n",
        "\n",
        "import matplotlib.pyplot as plt\n",
        "plt.imshow(image_data, cmap='gray')\n",
        "plt.show()"
      ],
      "metadata": {
        "colab": {
          "base_uri": "https://localhost:8080/",
          "height": 769
        },
        "id": "Bp4U61Py1n3h",
        "outputId": "3506e332-c78e-4be3-c875-f4f6bebb6ed5"
      },
      "execution_count": null,
      "outputs": [
        {
          "output_type": "stream",
          "name": "stdout",
          "text": [
            "[[  0   0   0   0   0   0   0   0   0   0   0   0   0   0   0   0   0   0   0   0   0   0   0   0   0   0   0   0]\n",
            " [  0   0   0   0   0   0   0   0   0   0   0   0   0   0   0   0   0   0   0   0   0   0   0   0   0   0   0   0]\n",
            " [  0   0   0   0   0   0   0   0   0   0   0   0   0   0   0   0   0   0   0   0   0   0   0   0   0   0   0   0]\n",
            " [  0   0   0   0   0   0   0   0   0   0   0   0   0   0   0   0   0   0   0   0   0   0   0   0   0   0   0   0]\n",
            " [  0   0   0   0   0   0   0   0   0   0   0   0   0   0   0   0   0   0   0   0   0   0   0   0   0   0   0   0]\n",
            " [  0   0   0   0   0   0   0   0   0   0   0   0   0   0   0   0   0   0   0   0   0   0   0   0   0   0   0   0]\n",
            " [  0   0   0   0   0   0   0   0   0   0   0   0   0   0   0   0   0   0   0   0   0   0   0   0   0   0   0   0]\n",
            " [  0   0   0   0   0   0   0   0   0   0   0   0   0   1   0   0   0  49 135 182 150  59   0   0   0   0   0   0]\n",
            " [  0   0   0   0   0   0   0   0   0   0   0   0   0   0   0   0  78 255 220 212 219 255 246 191 155  87   0   0]\n",
            " [  0   0   0   0   0   0   0   0   0   0   0   0   1   0   0  57 206 215 203 191 203 212 216 217 220 211  15   0]\n",
            " [  0   0   0   0   0   0   0   0   0   0   1   0   0   0  58 231 220 210 199 209 218 218 217 208 200 215  56   0]\n",
            " [  0   0   0   0   1   2   0   0   4   0   0   0   0 145 213 207 199 187 203 210 216 217 215 215 206 215 130   0]\n",
            " [  0   0   0   0   1   2   4   0   0   0   3 105 225 205 190 201 210 214 213 215 215 212 211 208 205 207 218   0]\n",
            " [  1   5   7   0   0   0   0   0  52 162 217 189 174 157 187 198 202 217 220 223 224 222 217 211 217 201 247  65]\n",
            " [  0   0   0   0   0   0  21  72 185 189 171 171 185 203 200 207 208 209 214 219 222 222 224 215 218 211 212 148]\n",
            " [  0  70 114 129 145 159 179 196 172 176 185 196 199 206 201 210 212 213 216 218 219 217 212 207 208 200 198 173]\n",
            " [  0 122 158 184 194 192 193 196 203 209 211 211 215 218 221 222 226 227 227 226 226 223 222 216 211 208 216 185]\n",
            " [ 21   0   0  12  48  82 123 152 170 184 195 211 225 232 233 237 242 242 240 240 238 236 222 209 200 193 185 106]\n",
            " [ 26  47  54  18   5   0   0   0   0   0   0   0   0   0   2   4   6   9   9   8   9   6   6   4   2   0   0   0]\n",
            " [  0  10  27  45  55  59  57  50  44  51  58  62  65  56  54  57  59  61  60  63  68  67  66  73  77  74  65  39]\n",
            " [  0   0   0   0   4   9  18  23  26  25  23  25  29  37  38  37  39  36  29  31  33  34  28  24  20  14   7   0]\n",
            " [  0   0   0   0   0   0   0   0   0   0   0   0   0   0   0   0   0   0   0   0   0   0   0   0   0   0   0   0]\n",
            " [  0   0   0   0   0   0   0   0   0   0   0   0   0   0   0   0   0   0   0   0   0   0   0   0   0   0   0   0]\n",
            " [  0   0   0   0   0   0   0   0   0   0   0   0   0   0   0   0   0   0   0   0   0   0   0   0   0   0   0   0]\n",
            " [  0   0   0   0   0   0   0   0   0   0   0   0   0   0   0   0   0   0   0   0   0   0   0   0   0   0   0   0]\n",
            " [  0   0   0   0   0   0   0   0   0   0   0   0   0   0   0   0   0   0   0   0   0   0   0   0   0   0   0   0]\n",
            " [  0   0   0   0   0   0   0   0   0   0   0   0   0   0   0   0   0   0   0   0   0   0   0   0   0   0   0   0]\n",
            " [  0   0   0   0   0   0   0   0   0   0   0   0   0   0   0   0   0   0   0   0   0   0   0   0   0   0   0   0]]\n"
          ]
        },
        {
          "output_type": "display_data",
          "data": {
            "text/plain": [
              "<Figure size 432x288 with 1 Axes>"
            ],
            "image/png": "[encoded data removed]"
          },
          "metadata": {
            "needs_background": "light"
          }
        }
      ]
    },
    {
      "cell_type": "code",
      "source": [
        "import numpy as np\n",
        "import cv2\n",
        "import os\n",
        "\n",
        "# Loads a MNIST dataset\n",
        "def load_mnist_dataset(dataset, path):\n",
        "  # Scan all the directories and create a list of labels\n",
        "  labels = os.listdir(os.path.join(path, dataset))\n",
        "  \n",
        "  # Create lists for samples and labels\n",
        "  X = [] \n",
        "  y = []\n",
        "  \n",
        "  # For each label folder\n",
        "  for label in labels:\n",
        "    # And for each image in given folder\n",
        "    for file in os.listdir(os.path.join(path, dataset, label)):\n",
        "      # Read the image\n",
        "      image = cv2.imread(os.path.join(path, dataset, label, file),\n",
        "                         cv2.IMREAD_UNCHANGED)\n",
        "      # And append it and a label to the lists\n",
        "      X.append(image)\n",
        "      y.append(label)\n",
        "      \n",
        "  # Convert the data to proper numpy arrays and return\n",
        "  return np.array(X), np.array(y).astype('uint8')\n",
        "  \n",
        "# MNIST dataset (train + test)\n",
        "def create_data_mnist(path):\n",
        "  # Load both sets separately\n",
        "  X, y = load_mnist_dataset('train', path)\n",
        "  X_test, y_test = load_mnist_dataset('test', path)\n",
        "  \n",
        "  # And return all the data\n",
        "  return X, y, X_test, y_test"
      ],
      "metadata": {
        "id": "VND575B03dca"
      },
      "execution_count": null,
      "outputs": []
    },
    {
      "cell_type": "code",
      "source": [
        "# Create dataset\n",
        "X, y, X_test, y_test = create_data_mnist('fashion_mnist_images')\n",
        "\n",
        "# Scale features\n",
        "X = (X.astype(np.float32) - 127.5) / 127.5\n",
        "X_test = (X_test.astype(np.float32) - 127.5) / 127.5\n",
        "\n",
        "print(X.min(), X.max())\n",
        "print(X.shape)\n",
        "\n",
        "# Reshape to vectors\n",
        "X = X.reshape(X.shape[0], -1)\n",
        "X_test = X_test.reshape(X_test.shape[0], -1)\n",
        "\n",
        "# get keys\n",
        "keys = np.array(range(X.shape[0]))\n",
        "print(keys[:10])\n",
        "\n",
        "import nnfs\n",
        "\n",
        "nnfs.init()\n",
        "\n",
        "# shuffle the keys \n",
        "np.random.shuffle(keys)\n",
        "print(keys[:10])\n",
        "\n",
        "X = X[keys]\n",
        "y = y[keys]\n",
        "\n",
        "import matplotlib.pyplot as plt\n",
        "plt.imshow((X[10].reshape(28, 28)))  # Reshape as image is a vector already\n",
        "plt.show()\n",
        "\n",
        "print(y[10])"
      ],
      "metadata": {
        "colab": {
          "base_uri": "https://localhost:8080/",
          "height": 355
        },
        "id": "5cs5Pzqs4Fwt",
        "outputId": "bc7f19ab-bdab-4b68-c5c6-bf7b888c6b44"
      },
      "execution_count": null,
      "outputs": [
        {
          "output_type": "stream",
          "name": "stdout",
          "text": [
            "-1.0 1.0\n",
            "(60000, 28, 28)\n",
            "[0 1 2 3 4 5 6 7 8 9]\n",
            "[ 3048 19563 58303  8870 40228 31488 21860 56864   845 25770]\n"
          ]
        },
        {
          "output_type": "display_data",
          "data": {
            "text/plain": [
              "<Figure size 432x288 with 1 Axes>"
            ],
            "image/png": "[encoded data removed]"
          },
          "metadata": {
            "needs_background": "light"
          }
        },
        {
          "output_type": "stream",
          "name": "stdout",
          "text": [
            "3\n"
          ]
        }
      ]
    }
  ]
}